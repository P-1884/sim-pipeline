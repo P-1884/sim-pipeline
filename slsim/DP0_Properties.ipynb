{
 "cells": [
  {
   "cell_type": "code",
   "execution_count": 15,
   "id": "905946f6-abf5-47d3-b0f8-23244a096186",
   "metadata": {
    "execution": {
     "iopub.execute_input": "2023-12-05T23:22:42.919106Z",
     "iopub.status.busy": "2023-12-05T23:22:42.918276Z",
     "iopub.status.idle": "2023-12-05T23:22:44.609886Z",
     "shell.execute_reply": "2023-12-05T23:22:44.609056Z",
     "shell.execute_reply.started": "2023-12-05T23:22:42.919081Z"
    }
   },
   "outputs": [],
   "source": [
    "# Import packages for Section 2.0 Catalog Access\n",
    "from lsst.rsp import get_tap_service, retrieve_query\n",
    "# Import packages for Section 3.0 Image Access\n",
    "import lsst.afw.display as afwDisplay\n",
    "import lsst.daf.butler as dafButler\n",
    "import lsst.geom\n",
    "import matplotlib.pyplot as pl\n",
    "from matplotlib.colors import LogNorm\n",
    "from scipy.stats import norm\n",
    "import lsst.geom as geom\n",
    "from tqdm import tqdm\n",
    "import pandas as pd\n",
    "import numpy as np\n",
    "import matplotlib\n",
    "import time\n",
    "import h5py\n",
    "import sys\n",
    "sys.path.append('/home/philholloway/sim-pipeline/slsim/Util/')\n",
    "from param_util import random_ra_dec\n",
    "service = get_tap_service(\"tap\")\n",
    "butler = dafButler.Butler('dp02', collections='2.2i/runs/DP0.2')\n",
    "skymap = butler.get(\"skyMap\")"
   ]
  },
  {
   "cell_type": "code",
   "execution_count": 2,
   "id": "5ce1dbc8-fbd0-4bcf-aec9-50ba34aad297",
   "metadata": {
    "execution": {
     "iopub.execute_input": "2023-12-05T23:03:00.993408Z",
     "iopub.status.busy": "2023-12-05T23:03:00.993185Z",
     "iopub.status.idle": "2023-12-05T23:03:00.999193Z",
     "shell.execute_reply": "2023-12-05T23:03:00.998611Z",
     "shell.execute_reply.started": "2023-12-05T23:03:00.993390Z"
    }
   },
   "outputs": [],
   "source": [
    "#From here: https://github.com/LSST-strong-lensing/slsim/blob/d8769446fb6aab699b6e18d5466e5aed2d589815/slsim/lsst_science_pipeline.py#L551\n",
    "def tap_query(center_coords, radius=0.1, band=\"i\"):\n",
    " \n",
    "    \"\"\"This function uses tap_service from RSP to query calexp visit information around\n",
    "    a coordinate point.\n",
    "\n",
    "    :param center_coords: A coordinate point around which visit informations are needed.\n",
    "    :type center_coords: string. eg: \"65, -36\"\n",
    "    :param radius: Radius around center point for query. The unit of radius is degree.\n",
    "    :param band: imaging band\n",
    "    :return: An astropy table of visit information sorted with observation time.\n",
    "    \"\"\"\n",
    "    service = get_tap_service(\"tap\")\n",
    "    query = (\n",
    "        \"SELECT TOP 1 ra, decl,\"\n",
    "        + \"ccdVisitId, band, \"\n",
    "        + \"visitId, physical_filter, detector, \"\n",
    "        + \"expMidptMJD, expTime, zeroPoint, skyRotation \"\n",
    "        + \"FROM dp02_dc2_catalogs.CcdVisit \"\n",
    "        + \"WHERE CONTAINS(POINT('ICRS', ra, decl), \"\n",
    "        + \"CIRCLE('ICRS', \"\n",
    "        + center_coords\n",
    "        + \", \"\n",
    "        + radius\n",
    "        + \")) = 1\"\n",
    "        + \"AND band = \"\n",
    "        + \"'\"\n",
    "        + str(band)\n",
    "        + \"' \"\n",
    "    )\n",
    "    result = service.search(query)\n",
    "    result_table = result.to_table()\n",
    "    sorted_column = np.argsort(result_table[\"expMidptMJD\"])\n",
    "    expo_information = result_table[sorted_column]\n",
    "    return expo_information\n",
    "\n",
    "#From here: https://github.com/LSST-strong-lensing/slsim/blob/d8769446fb6aab699b6e18d5466e5aed2d589815/slsim/Util/param_util.py#L60\n",
    "def random_radec_string(ra_min, ra_max, dec_min, dec_max, n):\n",
    "    \"\"\"Generates n number of random \"ra, dec\" string within given limits.\n",
    "\n",
    "    :param ra_min: minimum limit for ra\n",
    "    :param ra_max: maximum limit for ra\n",
    "    :param dec_min: minimum limit for dec\n",
    "    :param dec_max: maximum limit for dec\n",
    "    :param n: number of random sample\n",
    "    :returns: n number of \"ra, dec\" strings within given limits\n",
    "    \"\"\"\n",
    "    ra, dec = random_ra_dec(\n",
    "        ra_min=ra_min, ra_max=ra_max, dec_min=dec_min, dec_max=dec_max, n=n\n",
    "    )\n",
    "    center_coods_list = []\n",
    "    for i in range(n):\n",
    "        center_coods_list.append(str(ra[i]) + \", \" + str(dec[i]))\n",
    "    return center_coods_list"
   ]
  },
  {
   "cell_type": "code",
   "execution_count": null,
   "id": "8278801e-950b-4281-89dd-86cdfd752ebc",
   "metadata": {},
   "outputs": [],
   "source": [
    "#The LSST Science Camera has 189 science detectors (i.e. np.arange(0,189,1)).\n",
    "'''\n",
    "for detector in tqdm(np.arange(0,189,10).astype('int')):\n",
    "    datasetRefs = registry.queryDatasets(datasetType='calexp', band='i', detector=detector,\n",
    "                                     where='visit > 0 and visit < 1000000000')\n",
    "    for i, ref in enumerate(datasetRefs):\n",
    "        if i%1000!=0: continue\n",
    "        calexp = butler.get('calexp', dataId={'visit': ref.dataId.full['visit'], 'detector': detector})\n",
    "        mag_zp = calexp.getPhotoCalib().instFluxToMagnitude(1)\n",
    "        ZP_list.append(mag_zp)\n",
    "        print(detector,mag_zp)'''\n",
    "\n",
    "#From Narayan: The DP0 has RA/Dec limits of RA:55=>70 and Dec:-43=> 30\n",
    "N_ZP = 10000\n",
    "ZP_list = []\n",
    "for n in tqdm(range(N_ZP)):\n",
    "    ZP_list.append(tap_query((random_radec_string(55,70,-43,-30,1)[0]),radius = str(1))['zeroPoint'][0])"
   ]
  },
  {
   "cell_type": "code",
   "execution_count": null,
   "id": "46e8e1d7-8b85-466d-a9b1-5900ae53e237",
   "metadata": {},
   "outputs": [],
   "source": [
    "fig = pl.subplots(figsize=(8,5))\n",
    "pl.hist(ZP_list,bins=20,edgecolor='k')\n",
    "pl.xlabel('Zeropoint',fontsize=15)\n",
    "pl.ylabel('Counts',fontsize=15)\n",
    "pl.title('$\\mu=$'+f'{str(np.round(np.mean(ZP_list),3))}, '+'$\\sigma=$'+f'{str(np.round(np.std(ZP_list),3))}')\n",
    "pl.savefig(f'./DP0_Zeropoint_Distribution_{N_ZP}.png')\n",
    "pl.show()"
   ]
  },
  {
   "cell_type": "code",
   "execution_count": null,
   "id": "059a53f1-986b-406b-a51f-783a838409eb",
   "metadata": {},
   "outputs": [],
   "source": [
    "np.round(np.std(ZP_list),2)"
   ]
  },
  {
   "cell_type": "code",
   "execution_count": null,
   "id": "ce3c8949-62ef-4627-ac83-79b38c39738a",
   "metadata": {},
   "outputs": [],
   "source": [
    "'''\n",
    "service = get_tap_service(\"tap\")\n",
    "table_full_name = 'dp01_dc2_catalogs.object'\n",
    "query = \"\"\"SELECT DISTINCT tract FROM %s ORDER BY tract\"\"\" % (table_full_name)\n",
    "query_p = \"\"\"SELECT DISTINCT patch FROM %s ORDER BY patch\"\"\" % (table_full_name)\n",
    "results = service.search(query)\n",
    "results_p = service.search(query_p)\n",
    "df = results.to_table().to_pandas()\n",
    "df_p =  results_p.to_table().to_pandas()\n",
    "tract_list = df['tract'].tolist()\n",
    "patch_list = df_p['patch'].tolist()'''\n"
   ]
  },
  {
   "cell_type": "code",
   "execution_count": null,
   "id": "61165322-42f0-4f98-b333-b5f2d0d59509",
   "metadata": {},
   "outputs": [],
   "source": [
    "exp_time_list = [];mean_list = [];std_list =[];tp_list = []\n",
    "\n",
    "butler = dafButler.Butler('dp02', collections='2.2i/runs/DP0.2')\n",
    "skymap = butler.get('skyMap')\n",
    "N_coadd = 10000\n",
    "ra_dec_list = random_ra_dec(55,70,-43,-30,N_coadd)\n",
    "\n",
    "for n in tqdm(range(len(ra_dec_list[0]))):\n",
    "    ra_i = ra_dec_list[0][n]\n",
    "    dec_i =ra_dec_list[1][n]\n",
    "    my_spherePoint = lsst.geom.SpherePoint(ra_i*lsst.geom.degrees,\n",
    "                                           dec_i*lsst.geom.degrees)\n",
    "    tract = skymap.findTract(my_spherePoint)\n",
    "    patch = tract.findPatch(my_spherePoint)\n",
    "    my_tract = tract.tract_id\n",
    "    my_patch = patch.getSequentialIndex() \n",
    "    exp_map = butler.get(\"deepCoadd_nImage\",dataId={\"tract\": (my_tract),\n",
    "                                                                 \"patch\": (my_patch), \"band\": \"i\"})\n",
    "    mean_i,std_i = np.mean(exp_map.array),np.std(exp_map.array)\n",
    "    mean_list.append(mean_i);std_list.append(std_i);tp_list.append([my_tract,my_patch])\n",
    "    X_plot_i = np.linspace(mean_i-5*std_i,mean_i+5*std_i,1000)\n",
    "    #ax.plot(X_plot_i,norm.pdf(X_plot_i,loc=mean_i,scale=std_i),c='k',alpha=0.1)\n",
    "\n",
    "#pl.show()"
   ]
  },
  {
   "cell_type": "code",
   "execution_count": null,
   "id": "93e50ac0-ef06-4a33-943e-8091d6d9ada6",
   "metadata": {},
   "outputs": [],
   "source": [
    "fig,ax = pl.subplots(1,3,figsize=(15,5))\n",
    "for i in tqdm(range(len(mean_list))):\n",
    "    mean_i = mean_list[i]\n",
    "    std_i = std_list[i]\n",
    "    X_plot_i = np.linspace(mean_i-5*std_i,mean_i+5*std_i,1000)\n",
    "    ax[0].plot(X_plot_i,norm.pdf(X_plot_i,loc=mean_i,scale=std_i),c='k',alpha=1,linewidth=0.01)\n",
    "ax[0].set_xlim(left=0)\n",
    "ax[1].hist(mean_list,bins=np.arange(0,np.max([150,max(mean_list)]),10),edgecolor='k')\n",
    "ax[2].hist(std_list,bins=np.arange(0,np.max([30,max(std_list)]),2),edgecolor='k')\n",
    "ax[0].set_xlabel('Number of Exposures',fontsize=15)\n",
    "ax[1].set_xlabel('Mean N. Exposures per pixel',fontsize=15)\n",
    "ax[2].set_xlabel('Spread in N. Exposures per pixel',fontsize=15)\n",
    "for p_i in range(3):\n",
    "    ax[p_i].tick_params(labelsize=15)\n",
    "    if p_i>=1: ax[p_i].set_ylabel('Counts',fontsize=15)\n",
    "    else: ax[p_i].set_ylabel('Probability Density',fontsize=15)\n",
    "\n",
    "pl.tight_layout()\n",
    "pl.savefig(f'./DP0_N_Exposure_Distribution_{N_coadd}.png')\n",
    "pl.show()\n"
   ]
  },
  {
   "cell_type": "code",
   "execution_count": null,
   "id": "f8a0a2a6-323c-4532-9e06-61a9db940b3a",
   "metadata": {},
   "outputs": [],
   "source": [
    "ra = 62.541629  # degrees\n",
    "dec = -37.852021  # degrees\n",
    "point = geom.SpherePoint(ra, dec, geom.degrees)\n",
    "cutoutSize = geom.ExtentI(201, 201)\n",
    "# print(cutoutSize)\n",
    "\n",
    "# Read this from the table we have at hand...\n",
    "tractInfo = skymap.findTract(point)\n",
    "patchInfo = tractInfo.findPatch(point)\n",
    "my_tract = tractInfo.tract_id\n",
    "my_patch = patchInfo.getSequentialIndex()\n",
    "\n",
    "xy = geom.PointI(tractInfo.getWcs().skyToPixel(point))\n",
    "\n",
    "bbox = geom.BoxI(xy + cutoutSize // 2, cutoutSize)\n",
    "\n",
    "coaddId_i = {\"tract\": 3638, \"patch\": 27, \"band\": \"i\"}\n",
    "coadd_cut_i = butler.get(\"deepCoadd\", parameters={\"bbox\": bbox}, dataId=coaddId_i)\n",
    "coadd_exp_i = butler.get(\"deepCoadd_nImage\", parameters={\"bbox\": bbox}, dataId=coaddId_i)"
   ]
  },
  {
   "cell_type": "code",
   "execution_count": null,
   "id": "793c03e4-d539-4cdb-b910-5b15db5b45ba",
   "metadata": {},
   "outputs": [],
   "source": [
    "(coadd_cut_i.image).writeFits('./test_fitsfile.fits','ac')\n",
    "\n",
    "from astropy.io import fits\n",
    "a=fits.open('./test_fitsfile.fits')\n",
    "a[0].header"
   ]
  },
  {
   "cell_type": "code",
   "execution_count": null,
   "id": "37d35c91-2ef5-4b45-ab81-da79ebdff883",
   "metadata": {},
   "outputs": [],
   "source": [
    "help(coadd_cut_i.image.writeFitsWithOptions)\n",
    "#(coadd_cut_i.image)"
   ]
  },
  {
   "cell_type": "code",
   "execution_count": null,
   "id": "fde97151-2098-4ea1-8ba4-ccaa1f8962fc",
   "metadata": {},
   "outputs": [],
   "source": [
    "(coadd_cut_i).getPsf()"
   ]
  },
  {
   "cell_type": "code",
   "execution_count": null,
   "id": "5b2fbbbf-b3dc-4c43-9565-bd711380206d",
   "metadata": {},
   "outputs": [],
   "source": [
    "#selection function."
   ]
  },
  {
   "cell_type": "code",
   "execution_count": null,
   "id": "de81bcfd-57f6-4e8b-b8ae-7e7fc7b4e91b",
   "metadata": {},
   "outputs": [],
   "source": [
    "psf.computeKernelImage(position=spt)"
   ]
  },
  {
   "cell_type": "code",
   "execution_count": null,
   "id": "fa96e375-c094-4130-961e-e5dffc7511e6",
   "metadata": {},
   "outputs": [],
   "source": [
    "dp0_image = coadd_cut_i\n",
    "wcs = dp0_image.getWcs()\n",
    "psf = dp0_image.getPsf()\n",
    "bbox = dp0_image.getBBox()\n",
    "pixscale = wcs.getPixelScale(bbox.getCenter()).asArcseconds()\n",
    "num_pix_cutout = np.shape(dp0_image.image.array)[0]\n",
    "cutout_num=-1\n",
    "calibFluxRadius=12\n",
    "bbox = dp0_image.getBBox()\n",
    "\n",
    "xmin, ymin = bbox.getBegin()\n",
    "xmax, ymax = bbox.getEnd()\n",
    "print(xmax-xmin,ymax-ymin)\n",
    "wcs = dp0_image.getWcs()\n",
    "print(xmin+150,xmax-150,ymax)\n",
    "#x_center = np.random.randint(xmin + 150, xmax - 150, 1)\n",
    "#y_center = np.random.randint(ymin + 150, ymax - 150, 1)\n",
    "spt = geom.Point2D(0.5*(xmin+xmax),0.5*(ymin+ymax))\n",
    "cutout_num+=1\n",
    "#num_pix_lens = np.shape(lens)[0]\n",
    "pt = spt\n",
    "psfArr = psf.computeKernelImage(pt).array\n",
    "apCorr = psf.computeApertureFlux(calibFluxRadius, pt)\n",
    "\n",
    "psfArr /= apCorr\n"
   ]
  },
  {
   "cell_type": "code",
   "execution_count": null,
   "id": "41565700-4f4c-4288-a8bb-707562786dea",
   "metadata": {},
   "outputs": [],
   "source": []
  },
  {
   "cell_type": "code",
   "execution_count": 91,
   "id": "461dc2dc-680a-40be-8812-2471b60a99c1",
   "metadata": {
    "execution": {
     "iopub.execute_input": "2023-12-06T14:58:23.132178Z",
     "iopub.status.busy": "2023-12-06T14:58:23.131720Z",
     "iopub.status.idle": "2023-12-06T14:58:32.860954Z",
     "shell.execute_reply": "2023-12-06T14:58:32.860007Z",
     "shell.execute_reply.started": "2023-12-06T14:58:23.132126Z"
    }
   },
   "outputs": [
    {
     "name": "stdout",
     "output_type": "stream",
     "text": [
      "{'1-2': 0.0005395412445068359, '2-3': 4.004901170730591, '4-3': 5.105464458465576}\n"
     ]
    },
    {
     "data": {
      "image/png": "[encoded data removed]",
      "text/plain": [
       "<Figure size 640x480 with 1 Axes>"
      ]
     },
     "metadata": {},
     "output_type": "display_data"
    },
    {
     "name": "stdout",
     "output_type": "stream",
     "text": [
      "[(57, 57), (57, 57), (57, 57), (57, 57), (57, 57), (57, 57), (57, 57), (57, 57), (57, 57), (57, 57), (57, 57), (57, 57), (57, 57), (57, 57), (57, 57), (57, 57), (57, 57), (57, 57), (57, 57), (57, 57)]\n"
     ]
    }
   ],
   "source": [
    "class retrieve_coadds():\n",
    "    def __init__(self,ra=None,dec=None,cutout_size=201,n_im_per_coadd = 10):\n",
    "        if ra is None or dec is None:\n",
    "            ra_dec_list = random_ra_dec(55,70,-43,-30,1) #Retrieve random RA/Dec\n",
    "            self.ra = ra_dec_list[0];self.dec=ra_dec_list[1]\n",
    "            self.cutout_size=cutout_size\n",
    "            self.n_im_per_coadd=n_im_per_coadd\n",
    "\n",
    "    def retrieve_tract_patch(self,ra,dec):\n",
    "        point = geom.SpherePoint(ra, dec, geom.degrees)\n",
    "        cutoutSize = geom.ExtentI(self.cutout_size, self.cutout_size)\n",
    "        # Read this from the table we have at hand...\n",
    "        tractInfo = skymap.findTract(point)\n",
    "        patchInfo = tractInfo.findPatch(point)\n",
    "        my_tract = tractInfo.tract_id\n",
    "        my_patch = patchInfo.getSequentialIndex()\n",
    "        return my_tract,my_patch,point,tractInfo,cutoutSize\n",
    "    \n",
    "    def retrieve_coadd_files(self,tract,patch,point,tractInfo,cutoutSize):\n",
    "        xy = geom.PointI(tractInfo.getWcs().skyToPixel(point))\n",
    "        coaddId_i = {\"tract\": tract, \"patch\": patch, \"band\": \"i\"}\n",
    "        coadd_cut_i = butler.get(\"deepCoadd\", dataId=coaddId_i)\n",
    "        coadd_exp_i = butler.get(\"deepCoadd_nImage\", dataId=coaddId_i)\n",
    "        #\n",
    "        bbox_coadd = coadd_cut_i.getBBox()\n",
    "        xmin, ymin = bbox_coadd.getBegin()\n",
    "        xmax, ymax = bbox_coadd.getEnd()\n",
    "        #Why is this +- 150? Question for Narayan! Code adapted from lens_inejection_fast function.\n",
    "        x_center = np.random.randint(xmin + 150, xmax - 150, self.n_im_per_coadd)\n",
    "        y_center = np.random.randint(ymin + 150, ymax - 150, self.n_im_per_coadd)\n",
    "        xbox_min = x_center - ((self.cutout_size - 1) / 2)\n",
    "        xbox_max = x_center + ((self.cutout_size - 1) / 2)\n",
    "        ybox_min = y_center - ((self.cutout_size - 1) / 2)\n",
    "        ybox_max = y_center + ((self.cutout_size - 1) / 2)\n",
    "        bbox_cutout_list = [];spt_cutout_list = []\n",
    "        for n_cutouts in range(len(x_center)):\n",
    "            bbox_cutout_i = geom.Box2I(\n",
    "                                geom.Point2I(xbox_min[n_cutouts], ybox_min[n_cutouts]),\n",
    "                                geom.Point2I(xbox_max[n_cutouts], ybox_max[n_cutouts]))\n",
    "            spt_i = geom.Point2D(0.5*(xbox_min[n_cutouts]+xbox_max[n_cutouts]),\n",
    "                               0.5*(ybox_min[n_cutouts]+ybox_max[n_cutouts]))\n",
    "            bbox_cutout_list.append(bbox_cutout_i)\n",
    "            spt_cutout_list.append(spt_i)\n",
    "            #print(bbox_cutout_i,spt_i)\n",
    "        return coadd_cut_i,coadd_exp_i,bbox_cutout_list,spt_cutout_list\n",
    "    #\n",
    "    def retrieve_arrays(self):\n",
    "        t1=time.time()\n",
    "        tract,patch,point,tractInfo,cutoutSize = self.retrieve_tract_patch(self.ra,self.dec)\n",
    "        t2=time.time()\n",
    "        coadd_im,coadd_exp,bbox_cutout_list,spt_cutout_list = self.retrieve_coadd_files(tract,patch,point,tractInfo,cutoutSize)\n",
    "        t3=time.time()\n",
    "        wcs = coadd_im.getWcs()\n",
    "        psf = coadd_im.getPsf()\n",
    "        bbox = coadd_im.getBBox()\n",
    "        pixscale = wcs.getPixelScale(bbox.getCenter()).asArcseconds()\n",
    "        xmin, ymin = bbox.getBegin()\n",
    "        xmax, ymax = bbox.getEnd()\n",
    "###\n",
    "        calibFluxRadius=12\n",
    "        psf_list = [];cutout_list = [];cutout_exp_list = []\n",
    "        for n_cutouts in range(len(bbox_cutout_list)):\n",
    "            bbox_cutout_i = bbox_cutout_list[n_cutouts]\n",
    "            spt_cutout_i = spt_cutout_list[n_cutouts]\n",
    "            pl.scatter(spt_cutout_i.x-bbox.minX,spt_cutout_i.y-bbox.minY)\n",
    "            pl.text(spt_cutout_i.x-bbox.minX,spt_cutout_i.y-bbox.minY,s=(n_cutouts,int(spt_cutout_i.x-bbox.minX),int(spt_cutout_i.y-bbox.minY)))\n",
    "            cutout_image = coadd_im[bbox_cutout_i]\n",
    "            cutout_exp = coadd_exp[bbox_cutout_i]\n",
    "            psfArr = psf.computeKernelImage(spt_cutout_i).array\n",
    "            apCorr = psf.computeApertureFlux(calibFluxRadius, spt_cutout_i)\n",
    "            psfArr /= apCorr\n",
    "            psf_list.append(psfArr)\n",
    "            cutout_list.append(cutout_image.image.array)\n",
    "            cutout_exp_list.append(cutout_exp.array)\n",
    "        t4=time.time()\n",
    "        print({'1-2':t2-t1,'2-3':t3-t2,'4-3':t4-t3})\n",
    "        pl.plot([0]*2,[0,bbox.maxY-bbox.minY],c='k')\n",
    "        pl.plot([bbox.maxX-bbox.minX]*2,[0,bbox.maxY-bbox.minY],c='k')\n",
    "        pl.plot([0,bbox.maxX-bbox.minX],[0]*2,c='k')\n",
    "        pl.plot([0,bbox.maxX-bbox.minX],[bbox.maxY-bbox.minY]*2,c='k')\n",
    "        pl.scatter([0,0,bbox.maxX-bbox.minX,bbox.maxX-bbox.minX],[0,bbox.maxY-bbox.minY,0,bbox.maxY-bbox.minY],c='k')\n",
    "        pl.show()\n",
    "        return cutout_list,cutout_exp_list,psf_list\n",
    "    def save_arrays(self,foldername,prefix):\n",
    "        cutout_list,cutout_exp_list,psf_list = self.retrieve_arrays()\n",
    "        cutout_list=np.array(cutout_list)\n",
    "        cutout_exp_list=np.array(cutout_exp_list)\n",
    "        print([np.shape(elem) for elem in psf_list])\n",
    "        psf_list=np.array(psf_list)\n",
    "        if not os.path.isdir(foldername):\n",
    "            os.mkdirs(foldername)\n",
    "        with h5py.File(foldername+f'/{prefix}_image_data.h5', 'w') as hf:\n",
    "            hf.create_dataset(\"data\", data=cutout_list,compression=\"gzip\", maxshape=(None,cutout_list.shape[1],cutout_list.shape[2])) \n",
    "        with h5py.File(foldername+f'/{prefix}_Nexp_data.h5', 'w') as hf:\n",
    "            hf.create_dataset(\"data\", data=cutout_exp_list,compression=\"gzip\", maxshape=(None,cutout_exp_list.shape[1],cutout_exp_list.shape[2])) \n",
    "        with h5py.File(foldername+f'/{prefix}_psf_data.h5', 'w') as hf:\n",
    "            hf.create_dataset(\"data\", data=psf_list,compression=\"gzip\", maxshape=(None,psf_list.shape[1],psf_list.shape[2])) \n",
    "        return cutout_list,cutout_exp_list,psf_list\n",
    "        \n",
    "for i in range(1):\n",
    "    a,b,c = retrieve_coadds(n_im_per_coadd=20).save_arrays('./1/','1')\n",
    "    for i in range(0):\n",
    "        fig,ax = pl.subplots(1,3,figsize=(15,5))\n",
    "        ax[0].imshow(a[i],norm=LogNorm())\n",
    "        ax[1].imshow(b[i])\n",
    "        ax[2].imshow(c[i])\n",
    "    pl.show()\n",
    "#print(np.mean(b),np.std(b))"
   ]
  },
  {
   "cell_type": "code",
   "execution_count": null,
   "id": "685389df-907a-4c3e-b88b-a5b8b2984a6d",
   "metadata": {},
   "outputs": [],
   "source": []
  },
  {
   "cell_type": "code",
   "execution_count": null,
   "id": "7d75b8da-f1e3-4232-8144-cea2fc109e02",
   "metadata": {},
   "outputs": [],
   "source": []
  },
  {
   "cell_type": "code",
   "execution_count": null,
   "id": "9dad3112-7ad9-4fcb-9ed7-83bd4b51cc53",
   "metadata": {},
   "outputs": [],
   "source": []
  }
 ],
 "metadata": {
  "kernelspec": {
   "display_name": "LSST",
   "language": "python",
   "name": "lsst"
  },
  "language_info": {
   "codemirror_mode": {
    "name": "ipython",
    "version": 3
   },
   "file_extension": ".py",
   "mimetype": "text/x-python",
   "name": "python",
   "nbconvert_exporter": "python",
   "pygments_lexer": "ipython3",
   "version": "3.11.4"
  }
 },
 "nbformat": 4,
 "nbformat_minor": 5
}
